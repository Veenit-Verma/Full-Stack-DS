{
 "cells": [
  {
   "cell_type": "markdown",
   "id": "1e61a164",
   "metadata": {},
   "source": [
    "#  Python programming advanced assignment : 10"
   ]
  },
  {
   "cell_type": "raw",
   "id": "b3fc1e01",
   "metadata": {},
   "source": [
    "1. Create a function that takes the width, height and character and returns a picture frame as a 2D list.\n",
    "Examples:\n",
    "get_frame(4, 5, \"#\") ➞ [ [\"####\"], [\"# #\"], [\"# #\"], [\"# #\"], [\"####\"] ]\n",
    "# Frame is 4 characters wide and 5 characters tall.\n",
    "\n",
    "get_frame(10, 3, \"*\") ➞ [ [\"**********\"], [\"* *\"], [\"**********\"] ]\n",
    "# Frame is 10 characters and wide and 3 characters tall.\n",
    "\n",
    "get_frame(2, 5, \"0\") ➞ \"invalid\"\n",
    "# Frame's width is not more than 2."
   ]
  },
  {
   "cell_type": "code",
   "execution_count": null,
   "id": "71912a45",
   "metadata": {},
   "outputs": [],
   "source": [
    "def get_frame(in_width,in_height,in_character):\n",
    "    if in_width <= 2:\n",
    "        print(\"Invalid\")\n",
    "    else:\n",
    "        out_list = []\n",
    "        for height in range(in_height):\n",
    "            if height == 0 or height == in_height-1:\n",
    "                out_list.append([in_width*in_character])\n",
    "            else:\n",
    "                out_list.append([in_character+' '*(in_width-2)+in_character])\n",
    "        for ele in out_list:\n",
    "            print(ele)\n",
    "        print()\n",
    "    \n",
    "get_frame(4, 5, \"#\")\n",
    "get_frame(10, 3, \"*\")\n",
    "get_frame(2, 5, \"0\")"
   ]
  },
  {
   "cell_type": "raw",
   "id": "ba8690d5",
   "metadata": {},
   "source": [
    "2. Write three functions:\n",
    "boolean_and\n",
    "boolean_or\n",
    "boolean_xor\n",
    "These functions should evaluate a list of True and False values, starting from the leftmost element and evaluating pairwise. Examples:\n",
    "boolean_and([True, True, False, True]) ➞ False\n",
    "# [True, True, False, True] => [True, False, True] => [False, True] => False\n",
    "\n",
    "boolean_or([True, True, False, False]) ➞ True\n",
    "# [True, True, False, True] => [True, False, False] => [True, False] => True\n",
    "\n",
    "boolean_xor([True, True, False, False]) ➞ False\n",
    "# [True, True, False, False] => [False, False, False] => [False, False] => False\n",
    "\n",
    "def boolean_and(in_list):"
   ]
  },
  {
   "cell_type": "code",
   "execution_count": null,
   "id": "ba1746bd",
   "metadata": {},
   "outputs": [],
   "source": [
    "def boolean_and(in_list):\n",
    "    in_list_clone = in_list.copy()\n",
    "    while len(in_list) != 1:\n",
    "        x = in_list.pop(0)\n",
    "        y = in_list.pop(0)\n",
    "        in_list.insert(0,(x and y))\n",
    "    print(f'boolean_and({in_list_clone}) ➞ {in_list[0]}')\n",
    "    \n",
    "def boolean_or(in_list):\n",
    "    in_list_clone = in_list.copy()\n",
    "    while len(in_list) != 1:\n",
    "        x = in_list.pop(0)\n",
    "        y = in_list.pop(0)\n",
    "        in_list.insert(0,(x or y))\n",
    "    print(f'boolean_or({in_list_clone}) ➞ {in_list[0]}')\n",
    "    \n",
    "def boolean_xor(in_list):\n",
    "    in_list_clone = in_list.copy()\n",
    "    while len(in_list) != 1:\n",
    "        x = in_list.pop(0)\n",
    "        y = in_list.pop(0)\n",
    "        in_list.insert(0,(x ^ y))\n",
    "    print(f'boolean_xor({in_list_clone}) ➞ {in_list[0]}')\n",
    "    \n",
    "boolean_and([True, True, False, True])\n",
    "boolean_or([True, True, False, False])\n",
    "boolean_xor([True, True, False, False])"
   ]
  },
  {
   "cell_type": "raw",
   "id": "8ac417b6",
   "metadata": {},
   "source": [
    "3. Create a function that creates a box based on dimension n.\n",
    "Examples:\n",
    "make_box(5) ➞ [ \"#####\", \"# #\", \"# #\", \"# #\", \"#####\" ]\n",
    "\n",
    "make_box(3) ➞ [ \"###\", \"# #\", \"###\" ]\n",
    "\n",
    "make_box(2) ➞ [ \"##\", \"##\" ]\n",
    "\n",
    "make_box(1) ➞ [ \"#\" ]"
   ]
  },
  {
   "cell_type": "code",
   "execution_count": 1,
   "id": "aacee114",
   "metadata": {},
   "outputs": [
    {
     "name": "stdout",
     "output_type": "stream",
     "text": [
      "#####\n",
      "#   #\n",
      "#   #\n",
      "#   #\n",
      "#####\n",
      "\n",
      "##\n",
      "##\n",
      "\n",
      "#\n",
      "\n"
     ]
    }
   ],
   "source": [
    "def make_box(in_dimension):\n",
    "    out_list = []\n",
    "    for ele in range(in_dimension):\n",
    "        if ele == 0 or ele == in_dimension-1:\n",
    "            out_list.append('#'*in_dimension)\n",
    "        else:\n",
    "            out_list.append('#'+' '*(in_dimension-2)+'#')\n",
    "    for ele in out_list:\n",
    "        print(ele)\n",
    "    print()\n",
    "    \n",
    "make_box(5)   \n",
    "make_box(2)\n",
    "make_box(1)"
   ]
  },
  {
   "cell_type": "raw",
   "id": "eda779e8",
   "metadata": {},
   "source": [
    "4. Given a common phrase, return False if any individual word in the phrase contains duplicate letters. Return True otherwise.\n",
    "Examples:\n",
    "no_duplicate_letters(\"Fortune favours the bold.\") ➞ True\n",
    "no_duplicate_letters(\"You can lead a horse to water, but you can't make him drink.\") ➞ True\n",
    "no_duplicate_letters(\"Look before you leap.\") ➞ False\n",
    "# Duplicate letters in \"Look\" and \"before\".\n",
    "no_duplicate_letters(\"An apple a day keeps the doctor away.\") ➞ False\n",
    "# Duplicate letters in \"apple\", \"keeps\", \"doctor\", and \"away\"."
   ]
  },
  {
   "cell_type": "code",
   "execution_count": null,
   "id": "f5b9e04c",
   "metadata": {},
   "outputs": [],
   "source": [
    "def no_duplicate_letters(in_string):\n",
    "    out_put = None\n",
    "    for ele in in_string.split(' '):\n",
    "        if len(ele) == len(set(ele)):\n",
    "            out_put = True\n",
    "        else:\n",
    "            out_put = False\n",
    "            break\n",
    "    print(f'no_duplicate_letters({in_string}) ➞ {out_put}')\n",
    "    \n",
    "no_duplicate_letters(\"Fortune favours the bold.\")\n",
    "no_duplicate_letters(\"You can lead a horse to water, but you can't make him drink.\")\n",
    "no_duplicate_letters(\"Look before you leap.\")\n",
    "no_duplicate_letters(\"An apple a day keeps the doctor away.\")"
   ]
  },
  {
   "cell_type": "raw",
   "id": "bf186352",
   "metadata": {},
   "source": [
    "5. Write a regular expression that will match the states that voted yes to President Trump's impeachment. You must use RegEx positive lookahead.\n",
    "Examples:\n",
    "txt = \"Texas = no, California = yes, Florida = yes, Michigan = no\"\n",
    "pattern = \"yourregularexpressionhere\"\n",
    "re.findall(pattern, txt) ➞ [\"California\", \"Florida\"]"
   ]
  },
  {
   "cell_type": "code",
   "execution_count": null,
   "id": "22be38bc",
   "metadata": {},
   "outputs": [],
   "source": [
    "import re\n",
    "txt = \"Texas = no, California = yes, Florida = yes, Michigan = no\"\n",
    "pattern = r'\\w+(?=\\s=\\syes*)'\n",
    "match = re.findall(pattern,txt)\n",
    "print(f're.findall{pattern,txt} ➞ {match}')"
   ]
  }
 ],
 "metadata": {
  "kernelspec": {
   "display_name": "Python 3 (ipykernel)",
   "language": "python",
   "name": "python3"
  },
  "language_info": {
   "codemirror_mode": {
    "name": "ipython",
    "version": 3
   },
   "file_extension": ".py",
   "mimetype": "text/x-python",
   "name": "python",
   "nbconvert_exporter": "python",
   "pygments_lexer": "ipython3",
   "version": "3.11.3"
  }
 },
 "nbformat": 4,
 "nbformat_minor": 5
}
