{
 "cells": [
  {
   "cell_type": "markdown",
   "id": "d2497c13",
   "metadata": {},
   "source": [
    "# Python Programming Basic Assignment - 24"
   ]
  },
  {
   "cell_type": "markdown",
   "id": "a9262bf2",
   "metadata": {},
   "source": [
    "### Question 1:"
   ]
  },
  {
   "cell_type": "markdown",
   "id": "30bf6d22",
   "metadata": {},
   "source": [
    "Create a function that takes an integer and returns a list from 1 to the given number, where:\n",
    "1. If the number can be divided evenly by 4, amplify it by 10 (i.e. return 10 times the number).\n",
    "2. If the number cannot be divided evenly by 4, simply return the number.\n",
    "Examples:\n",
    "amplify(4) ➞ [1, 2, 3, 40]\n",
    "amplify(3) ➞ [1, 2, 3]\n",
    "amplify(25) ➞ [1, 2, 3, 40, 5, 6, 7, 80, 9, 10, 11, 120, 13, 14, 15, 160, 17, 18, 19, 200, 21, 22, 23, 240, 25]\n",
    "\n",
    "Notes:\n",
    "The given integer will always be equal to or greater than 1.\n",
    "Include the number (see example above).\n",
    "To perform this problem with its intended purpose, try doing it with list comprehensions. If that's too difficult,\n",
    "just solve the challenge any way you can."
   ]
  },
  {
   "cell_type": "code",
   "execution_count": 6,
   "id": "aa61d4e6",
   "metadata": {},
   "outputs": [
    {
     "data": {
      "text/plain": [
       "[1, 2, 3, 40, 5, 6, 7, 80, 9, 10]"
      ]
     },
     "execution_count": 6,
     "metadata": {},
     "output_type": "execute_result"
    }
   ],
   "source": [
    "def amplify(num):\n",
    "    final_list = []\n",
    "    for i in range(1 , num +1): \n",
    "        if i%4 ==0: \n",
    "            final_list.append(i*10)\n",
    "        else:\n",
    "            final_list.append(i)\n",
    "    return final_list\n",
    "amplify(10)"
   ]
  },
  {
   "cell_type": "markdown",
   "id": "dad01d8b",
   "metadata": {},
   "source": [
    "### Question2:"
   ]
  },
  {
   "cell_type": "markdown",
   "id": "b4e76ccb",
   "metadata": {},
   "source": [
    "Create a function that takes a list of numbers and return the number that's unique.\n",
    "Examples:\n",
    "unique([3, 3, 3, 7, 3, 3]) ➞ 7\n",
    "unique([0, 0, 0.77, 0, 0]) ➞ 0.77\n",
    "unique([0, 1, 1, 1, 1, 1, 1, 1]) ➞ 0\n",
    "Notes:\n",
    "Test cases will always have exactly one unique number while all others are the same."
   ]
  },
  {
   "cell_type": "code",
   "execution_count": 11,
   "id": "ebb19e91",
   "metadata": {},
   "outputs": [
    {
     "data": {
      "text/plain": [
       "5"
      ]
     },
     "execution_count": 11,
     "metadata": {},
     "output_type": "execute_result"
    }
   ],
   "source": [
    "def unique(list): \n",
    "    for i in list: \n",
    "        if list.count(i) == 1: \n",
    "            return i \n",
    "unique([3,5,3,3])"
   ]
  },
  {
   "cell_type": "markdown",
   "id": "c4c39ed1",
   "metadata": {},
   "source": [
    "### Question3: "
   ]
  },
  {
   "cell_type": "code",
   "execution_count": null,
   "id": "b256f260",
   "metadata": {},
   "outputs": [],
   "source": [
    "Your task is to create a Circle constructor that creates a circle with a radius provided by an argument. The\n",
    "circles constructed must have two getters getArea() (PIr^2) and getPerimeter() (2PI*r) which give both respective\n",
    "areas and perimeter (circumference).\n",
    "For help with this class, I have provided you with a Rectangle constructor which you can use as a base example.\n",
    "\n",
    "Examples:\n",
    "circy = Circle(11)\n",
    "circy.getArea()\n",
    "Should return 380.132711084365\n",
    "circy = Circle(4.44)\n",
    "circy.getPerimeter()\n",
    "Should return 27.897342763877365\n",
    "\n",
    "Notes:\n",
    "Round results up to the nearest integer."
   ]
  },
  {
   "cell_type": "code",
   "execution_count": 16,
   "id": "d5bc2d5f",
   "metadata": {},
   "outputs": [
    {
     "name": "stdout",
     "output_type": "stream",
     "text": [
      "380.132711084365\n",
      "\n",
      "27.897342763877365\n"
     ]
    }
   ],
   "source": [
    "import math\n",
    "class Circle:\n",
    "    def __init__(self, radius):\n",
    "        self.radius = radius\n",
    "    def getArea(self):\n",
    "        area = (math.pi)*(self.radius**2)\n",
    "        return area\n",
    "    def getPerimeter(self):\n",
    "        perimeter = 2*(math.pi)*(self.radius)\n",
    "        return perimeter\n",
    "\n",
    "circy = Circle(11)\n",
    "print(circy.getArea())\n",
    "print()\n",
    "circy = Circle(4.44)\n",
    "print(circy.getPerimeter())\n"
   ]
  },
  {
   "cell_type": "code",
   "execution_count": null,
   "id": "649ec6b6",
   "metadata": {},
   "outputs": [],
   "source": [
    "import math \n",
    "class Circle: \n",
    "    def ___init__(self, radius):\n",
    "        self.radius = radius \n",
    "    def getArea(self): \n",
    "        area = (math.pi)"
   ]
  }
 ],
 "metadata": {
  "kernelspec": {
   "display_name": "Python 3",
   "language": "python",
   "name": "python3"
  },
  "language_info": {
   "codemirror_mode": {
    "name": "ipython",
    "version": 3
   },
   "file_extension": ".py",
   "mimetype": "text/x-python",
   "name": "python",
   "nbconvert_exporter": "python",
   "pygments_lexer": "ipython3",
   "version": "3.10.1"
  }
 },
 "nbformat": 4,
 "nbformat_minor": 5
}
