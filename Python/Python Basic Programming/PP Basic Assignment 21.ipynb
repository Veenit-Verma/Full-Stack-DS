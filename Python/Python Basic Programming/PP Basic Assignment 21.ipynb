{
 "cells": [
  {
   "cell_type": "markdown",
   "id": "5b0b849d",
   "metadata": {},
   "source": [
    "# Python programming basic assignment : 21"
   ]
  },
  {
   "cell_type": "code",
   "execution_count": null,
   "id": "49545df3",
   "metadata": {},
   "outputs": [],
   "source": [
    "Q.1. \n",
    "\n",
    "Write a function that takes a list and a number as arguments. Add the number to the end of the list, then remove the first element of the list. The function should then return the updated list.\n",
    "Examples\n",
    "next_in_line([5, 6, 7, 8, 9], 1) ➞ [6, 7, 8, 9, 1]\n",
    "\n",
    "next_in_line([7, 6, 3, 23, 17], 10) ➞ [6, 3, 23, 17, 10]\n",
    "\n",
    "next_in_line([1, 10, 20, 42 ], 6) ➞ [10, 20, 42, 6]\n",
    "\n",
    "next_in_line([], 6) ➞ \"No list has been selected\"\n"
   ]
  },
  {
   "cell_type": "code",
   "execution_count": 9,
   "id": "065c28b5",
   "metadata": {},
   "outputs": [
    {
     "data": {
      "text/plain": [
       "[6, 8, 6, 4]"
      ]
     },
     "execution_count": 9,
     "metadata": {},
     "output_type": "execute_result"
    }
   ],
   "source": [
    "def next_in_line(L1, n): \n",
    "    var = []\n",
    "    if L1 ==[]:\n",
    "        return \"No list is selected\"\n",
    "    else: \n",
    "        for i in range(1, len(L1)):\n",
    "            var.append(L1[i])\n",
    "        var.append(n)\n",
    "    return var\n",
    "next_in_line([5,6,8,6],4)"
   ]
  },
  {
   "cell_type": "code",
   "execution_count": 14,
   "id": "fcce6164",
   "metadata": {},
   "outputs": [
    {
     "ename": "SyntaxError",
     "evalue": "unterminated string literal (detected at line 3) (Temp/ipykernel_16016/826622665.py, line 3)",
     "output_type": "error",
     "traceback": [
      "\u001b[1;36m  File \u001b[1;32m\"C:\\Users\\VEENIT\\AppData\\Local\\Temp/ipykernel_16016/826622665.py\"\u001b[1;36m, line \u001b[1;32m3\u001b[0m\n\u001b[1;33m    Create the function that takes a list of dictionaries and returns the sum of people's budgets.\u001b[0m\n\u001b[1;37m                                                                                       ^\u001b[0m\n\u001b[1;31mSyntaxError\u001b[0m\u001b[1;31m:\u001b[0m unterminated string literal (detected at line 3)\n"
     ]
    }
   ],
   "source": [
    "Q.2.\n",
    "\n",
    "Create the function that takes a list of dictionaries and returns the sum of people's budgets.\n",
    "Examples\n",
    "get_budgets([\n",
    "  { \"name\": \"John\", \"age\": 21, \"budget\": 23000 },\n",
    "  { \"name\": \"Steve\",  \"age\": 32, \"budget\": 40000 },\n",
    "  { \"name\": \"Martin\",  \"age\": 16, \"budget\": 2700 }\n",
    "]) ➞ 65700\n",
    "\n",
    "get_budgets([\n",
    "  { \"name\": \"John\",  \"age\": 21, \"budget\": 29000 },\n",
    "  { \"name\": \"Steve\",  \"age\": 32, \"budget\": 32000 },\n",
    "  { \"name\": \"Martin\",  \"age\": 16, \"budget\": 1600 }\n",
    "]) \n"
   ]
  },
  {
   "cell_type": "code",
   "execution_count": 17,
   "id": "e219126c",
   "metadata": {},
   "outputs": [
    {
     "data": {
      "text/plain": [
       "62600"
      ]
     },
     "execution_count": 17,
     "metadata": {},
     "output_type": "execute_result"
    }
   ],
   "source": [
    "def get_budgets(Dict): \n",
    "    sum_money = 0\n",
    "    for i in range(len(Dict)): \n",
    "        sum_money = sum_money + (Dict[i]).get(\"budget\")\n",
    "    return sum_money \n",
    "get_budgets([\n",
    "  { \"name\": \"John\",  \"age\": 21, \"budget\": 29000 },\n",
    "  { \"name\": \"Steve\",  \"age\": 32, \"budget\": 32000 },\n",
    "  { \"name\": \"Martin\",  \"age\": 16, \"budget\": 1600 }\n",
    "])"
   ]
  },
  {
   "cell_type": "code",
   "execution_count": null,
   "id": "0cbcee2a",
   "metadata": {},
   "outputs": [],
   "source": [
    "Q.3. \n",
    "\n",
    "Create a function that takes a string and returns a string with its letters in alphabetical order.\n",
    "Examples:\n",
    "alphabet_soup(\"hello\") ➞ \"ehllo\"\n",
    "alphabet_soup(\"edabit\") ➞ \"abdeit\"\n",
    "alphabet_soup(\"hacker\") ➞ \"acehkr\"\n",
    "alphabet_soup(\"geek\") ➞ \"eegk\"\n",
    "alphabet_soup(\"javascript\") ➞ \"aacijprstv\""
   ]
  },
  {
   "cell_type": "code",
   "execution_count": 36,
   "id": "5d5cc502",
   "metadata": {},
   "outputs": [
    {
     "name": "stdout",
     "output_type": "stream",
     "text": [
      "['a', 'e', 'e', 'f', 'g', 'j', 'k', 's']\n"
     ]
    },
    {
     "data": {
      "text/plain": [
       "'aeefgjks'"
      ]
     },
     "execution_count": 36,
     "metadata": {},
     "output_type": "execute_result"
    }
   ],
   "source": [
    "def sort_string(S): \n",
    "    S1 = sorted(S)\n",
    "    print(S1)\n",
    "    return \"\".join(S1)\n",
    "\n",
    "sort_string(\"asejkgfe\")"
   ]
  },
  {
   "cell_type": "code",
   "execution_count": 33,
   "id": "d8dd3029",
   "metadata": {},
   "outputs": [
    {
     "data": {
      "text/plain": [
       "['e', 'e', 'i', 'n', 't', 'v']"
      ]
     },
     "execution_count": 33,
     "metadata": {},
     "output_type": "execute_result"
    }
   ],
   "source": [
    "sorted(\"veenit\")"
   ]
  },
  {
   "cell_type": "code",
   "execution_count": null,
   "id": "7478fb98",
   "metadata": {},
   "outputs": [],
   "source": [
    "Q4. \n",
    "\n",
    "Suppose that you invest 10,000 dollars for 10 years at an interest rate of 6 percent compounded monthly.What\n",
    "will be the value of your investment at the end of the 10 year period? Create a function that accepts the principal\n",
    "p, the term in years t, the interest rate r, and the number of compounding periods per year n. The function\n",
    "returns the value at the end of term rounded to the nearest cent.\n",
    "For the example above:\n",
    "compound_interest(10000, 10, 0.06, 12) ➞ 18193.97\n",
    "Note that the interest rate is given as a decimal and n=12 because with monthly compounding there are 12\n",
    "periods per year. Compounding can also be done annually, quarterly, weekly, or daily.\n",
    "Examples:\n",
    "compound_interest(100, 1, 0.05, 1) ➞ 105.0\n",
    "compound_interest(3500, 15, 0.1, 4) ➞ 15399.26\n",
    "compound_interest(100000, 20, 0.15, 365) ➞ 2007316.26"
   ]
  },
  {
   "cell_type": "code",
   "execution_count": 48,
   "id": "0b154fa0",
   "metadata": {},
   "outputs": [
    {
     "data": {
      "text/plain": [
       "1378584918490000.0"
      ]
     },
     "execution_count": 48,
     "metadata": {},
     "output_type": "execute_result"
    }
   ],
   "source": [
    "def compund_interest(P, t , n, r): \n",
    "    CI = p*((1+r/n)**nt)\n",
    "    round = rounded(CI , ndigits = 2)\n",
    "    return round \n",
    "    \n",
    "compound_interest(10000,10,12,1)\n",
    "    \n",
    "    "
   ]
  },
  {
   "cell_type": "code",
   "execution_count": null,
   "id": "20b34b51",
   "metadata": {},
   "outputs": [],
   "source": [
    "Q.5\n",
    "\n",
    "Write a function that takes a list of elements and returns only the integers.\n",
    "Examples:\n",
    "return_only_integer([9, 2, \"space\", \"car\", \"lion\", 16]) ➞ [9, 2, 16]\n",
    "return_only_integer([\"hello\", 81, \"basketball\", 123, \"fox\"]) ➞ [81, 123]\n",
    "return_only_integer([10, \"121\", 56, 20, \"car\", 3, \"lion\"]) ➞ [10, 56, 20, 3]\n",
    "return_only_integer([\"String\", True, 3.3, 1]) ➞"
   ]
  },
  {
   "cell_type": "code",
   "execution_count": 53,
   "id": "72494c73",
   "metadata": {},
   "outputs": [
    {
     "data": {
      "text/plain": [
       "[2, 5]"
      ]
     },
     "execution_count": 53,
     "metadata": {},
     "output_type": "execute_result"
    }
   ],
   "source": [
    "def return_int(L):\n",
    "    L1= []\n",
    "    for i in L: \n",
    "        if type(i) == int:\n",
    "            L1.append(i)\n",
    "    return L1\n",
    "return_int([2,5,\"Veenit\", \"Kush\"])"
   ]
  },
  {
   "cell_type": "code",
   "execution_count": null,
   "id": "e9fa5d7c",
   "metadata": {},
   "outputs": [],
   "source": []
  }
 ],
 "metadata": {
  "kernelspec": {
   "display_name": "Python 3",
   "language": "python",
   "name": "python3"
  },
  "language_info": {
   "codemirror_mode": {
    "name": "ipython",
    "version": 3
   },
   "file_extension": ".py",
   "mimetype": "text/x-python",
   "name": "python",
   "nbconvert_exporter": "python",
   "pygments_lexer": "ipython3",
   "version": "3.10.1"
  }
 },
 "nbformat": 4,
 "nbformat_minor": 5
}
