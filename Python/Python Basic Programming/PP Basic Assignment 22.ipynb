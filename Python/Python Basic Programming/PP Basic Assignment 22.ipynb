{
 "cells": [
  {
   "cell_type": "markdown",
   "id": "0b09a99c",
   "metadata": {},
   "source": [
    "# Python programming basic assignment : 22"
   ]
  },
  {
   "cell_type": "markdown",
   "id": "3ea82da2",
   "metadata": {},
   "source": [
    "Q.1. Create a function that takes three parameters where:\n",
    "    . x is the start of the range (inclusive).\n",
    "    . y is the end of the range (inclusive).\n",
    "    . n is the divisor to be checked against.\n",
    "\n",
    "Return an ordered list with numbers in the range that are divisible by the third parameter n. Return an empty list if there are no numbers that are divisible by n."
   ]
  },
  {
   "cell_type": "code",
   "execution_count": 2,
   "id": "840acc45",
   "metadata": {},
   "outputs": [
    {
     "data": {
      "text/plain": [
       "[2, 4, 6, 8, 10]"
      ]
     },
     "execution_count": 2,
     "metadata": {},
     "output_type": "execute_result"
    }
   ],
   "source": [
    "def div_list(start, end, div):\n",
    "    List = []\n",
    "    for i in range(start, end+1): #For end to be included, we write end+1\n",
    "        if i%div ==0: \n",
    "            List.append(i)\n",
    "    return List \n",
    "div_list(1, 10, 2)"
   ]
  },
  {
   "cell_type": "markdown",
   "id": "fc08e6c6",
   "metadata": {},
   "source": [
    "Q2. Create a function that takes in two lists and returns True if the second list follows the first list by one element, and False otherwise. In other words, determine if the second list is the first list shifted to the right by 1."
   ]
  },
  {
   "cell_type": "code",
   "execution_count": 4,
   "id": "71ad7b21",
   "metadata": {},
   "outputs": [
    {
     "data": {
      "text/plain": [
       "False"
      ]
     },
     "execution_count": 4,
     "metadata": {},
     "output_type": "execute_result"
    }
   ],
   "source": [
    "def simon_says(l1,l2):\n",
    "    if l1[0:len(l1)-1] == l2[1:len(l2)]:\n",
    "        return True\n",
    "    else:\n",
    "        return False\n",
    "simon_says([1,5,2,3] , [5,3,5,7])"
   ]
  },
  {
   "cell_type": "code",
   "execution_count": null,
   "id": "e9472650",
   "metadata": {},
   "outputs": [],
   "source": [
    "Q.3. A group of friends have decided to start a secret society. The name will be the first letter of each of their names, sorted in alphabetical order.\n",
    "Create a function that takes in a list of names and returns the name of the secret society."
   ]
  },
  {
   "cell_type": "code",
   "execution_count": 24,
   "id": "3411e3b1",
   "metadata": {},
   "outputs": [
    {
     "data": {
      "text/plain": [
       "\"['A', 'S', 'V']\""
      ]
     },
     "execution_count": 24,
     "metadata": {},
     "output_type": "execute_result"
    }
   ],
   "source": [
    "def secret_society(L1):\n",
    "    society_name = \"\"\n",
    "    for i in range(0 , len(L1)): \n",
    "        society_name = society_name + L1[i][0]\n",
    "    return str(sorted(society_name))\n",
    "secret_society([\"Veenit\", \"Aish\", \"Sudh\"])"
   ]
  },
  {
   "cell_type": "markdown",
   "id": "d2ec27e9",
   "metadata": {},
   "source": [
    "Q.4. An isogram is a word that has no duplicate letters. Create a function that takes a string and returns either True or False depending on whether or not it's an \"isogram\"."
   ]
  },
  {
   "cell_type": "code",
   "execution_count": 19,
   "id": "b0bbd57b",
   "metadata": {},
   "outputs": [
    {
     "data": {
      "text/plain": [
       "False"
      ]
     },
     "execution_count": 19,
     "metadata": {},
     "output_type": "execute_result"
    }
   ],
   "source": [
    "def is_isogram(word):\n",
    "    if len(word) == len(set(word)):\n",
    "        return True \n",
    "    else:\n",
    "        return False \n",
    "is_isogram(\"Veenit\")"
   ]
  },
  {
   "cell_type": "markdown",
   "id": "60cec28f",
   "metadata": {},
   "source": [
    "Q.5. Create a function that takes a string and returns True or False, depending on whether the characters are in order or not."
   ]
  },
  {
   "cell_type": "code",
   "execution_count": 22,
   "id": "cfb2a15b",
   "metadata": {},
   "outputs": [
    {
     "data": {
      "text/plain": [
       "False"
      ]
     },
     "execution_count": 22,
     "metadata": {},
     "output_type": "execute_result"
    }
   ],
   "source": [
    "def is_sorted(string):\n",
    "    if set(string) == len(sorted(string)):\n",
    "        return True \n",
    "    else:\n",
    "        return False \n",
    "is_sorted(\"Veenit\")"
   ]
  },
  {
   "cell_type": "code",
   "execution_count": null,
   "id": "c6bb0439",
   "metadata": {},
   "outputs": [],
   "source": []
  }
 ],
 "metadata": {
  "kernelspec": {
   "display_name": "Python 3",
   "language": "python",
   "name": "python3"
  },
  "language_info": {
   "codemirror_mode": {
    "name": "ipython",
    "version": 3
   },
   "file_extension": ".py",
   "mimetype": "text/x-python",
   "name": "python",
   "nbconvert_exporter": "python",
   "pygments_lexer": "ipython3",
   "version": "3.10.1"
  }
 },
 "nbformat": 4,
 "nbformat_minor": 5
}
