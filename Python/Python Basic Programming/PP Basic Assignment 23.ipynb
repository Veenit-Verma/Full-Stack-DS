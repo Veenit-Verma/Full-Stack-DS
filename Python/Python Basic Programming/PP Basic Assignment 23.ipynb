{
 "cells": [
  {
   "cell_type": "markdown",
   "id": "eb68edea",
   "metadata": {},
   "source": [
    "# Python programming basic assignment : 23"
   ]
  },
  {
   "cell_type": "markdown",
   "id": "405f5827",
   "metadata": {},
   "source": [
    "Q.1. \n",
    "Create a function that takes a number as an argument and returns True or False depending on whether the number is symmetrical or not. A number is symmetrical when it is the same as its reverse."
   ]
  },
  {
   "cell_type": "code",
   "execution_count": 6,
   "id": "4199316c",
   "metadata": {},
   "outputs": [
    {
     "name": "stdout",
     "output_type": "stream",
     "text": [
      "Enter the number1\n"
     ]
    }
   ],
   "source": [
    "n = int(input(\"Enter the number \"))\n",
    "def is_symmetric(n):\n",
    "    if str(n) == str(n)[::-1]:\n",
    "        return True \n",
    "    else:\n",
    "        return False "
   ]
  },
  {
   "cell_type": "code",
   "execution_count": 4,
   "id": "83e48162",
   "metadata": {},
   "outputs": [
    {
     "data": {
      "text/plain": [
       "False"
      ]
     },
     "execution_count": 4,
     "metadata": {},
     "output_type": "execute_result"
    }
   ],
   "source": [
    "def is_symmetric(num):\n",
    "    if str(num) == str(num)[::-1]:\n",
    "        return True \n",
    "    else:\n",
    "        return False \n",
    "is_symmetric(132)"
   ]
  },
  {
   "cell_type": "markdown",
   "id": "f58d613e",
   "metadata": {},
   "source": [
    "Q.2. Given a string of numbers separated by a comma and space, return the product of the numbers."
   ]
  },
  {
   "cell_type": "code",
   "execution_count": 19,
   "id": "13c99ecd",
   "metadata": {},
   "outputs": [
    {
     "data": {
      "text/plain": [
       "24"
      ]
     },
     "execution_count": 19,
     "metadata": {},
     "output_type": "execute_result"
    }
   ],
   "source": [
    "def multiply_nums(String):\n",
    "    Elements_in_string = String.split(\",\") #.split() function returns output in form of list \n",
    "    product = 1 #initializing multiplying variable \n",
    "    for i in Elements_in_string: #loop on the list obtained to perform multiplication \n",
    "        product = product * int(i)\n",
    "    return product\n",
    "multiply_nums(\"1, 2, 3, 4\")"
   ]
  },
  {
   "cell_type": "code",
   "execution_count": 9,
   "id": "1a314df4",
   "metadata": {},
   "outputs": [
    {
     "name": "stdout",
     "output_type": "stream",
     "text": [
      "['apple', 'banana', 'cherry', 'orange']\n"
     ]
    }
   ],
   "source": []
  },
  {
   "cell_type": "markdown",
   "id": "894c148b",
   "metadata": {},
   "source": [
    "Q.3. Create a function that squares every digit of a number."
   ]
  },
  {
   "cell_type": "code",
   "execution_count": 15,
   "id": "3979f032",
   "metadata": {},
   "outputs": [
    {
     "data": {
      "text/plain": [
       "19253625"
      ]
     },
     "execution_count": 15,
     "metadata": {},
     "output_type": "execute_result"
    }
   ],
   "source": [
    "def square_digits(num):\n",
    "    Str = \"\"\n",
    "    for i in str(num):\n",
    "        Str = Str + str(int(str(i))**2) \n",
    "    return int(Str)\n",
    "square_digits(13565)"
   ]
  },
  {
   "cell_type": "markdown",
   "id": "f3583c55",
   "metadata": {},
   "source": [
    "Q4. Create a function that sorts a list and removes all duplicate items from it."
   ]
  },
  {
   "cell_type": "code",
   "execution_count": 18,
   "id": "0fd139cd",
   "metadata": {},
   "outputs": [
    {
     "data": {
      "text/plain": [
       "[1, 3, 5]"
      ]
     },
     "execution_count": 18,
     "metadata": {},
     "output_type": "execute_result"
    }
   ],
   "source": [
    "#sorting + removing \n",
    "def setify(List):\n",
    "    return list(set(sorted(List))) #set is different from list since set does not have duplicate variable \n",
    "setify([1,3,3,5])"
   ]
  },
  {
   "cell_type": "markdown",
   "id": "18d658a9",
   "metadata": {},
   "source": [
    "Q.5. Create a function that returns the mean of all digits."
   ]
  },
  {
   "cell_type": "code",
   "execution_count": 23,
   "id": "5e372a96",
   "metadata": {},
   "outputs": [
    {
     "data": {
      "text/plain": [
       "2.0"
      ]
     },
     "execution_count": 23,
     "metadata": {},
     "output_type": "execute_result"
    }
   ],
   "source": [
    "def sum_of_digits(num):\n",
    "    sum = 0\n",
    "    for i in str(num): #this for loop picks up each digit in form of string. For loop does not iterate on integers \n",
    "        sum = sum + int(str(i))\n",
    "    return sum/len(str(num)) \n",
    "    \n",
    "sum_of_digits(213)    "
   ]
  },
  {
   "cell_type": "code",
   "execution_count": null,
   "id": "85444aed",
   "metadata": {},
   "outputs": [],
   "source": []
  }
 ],
 "metadata": {
  "kernelspec": {
   "display_name": "Python 3",
   "language": "python",
   "name": "python3"
  },
  "language_info": {
   "codemirror_mode": {
    "name": "ipython",
    "version": 3
   },
   "file_extension": ".py",
   "mimetype": "text/x-python",
   "name": "python",
   "nbconvert_exporter": "python",
   "pygments_lexer": "ipython3",
   "version": "3.10.1"
  }
 },
 "nbformat": 4,
 "nbformat_minor": 5
}
