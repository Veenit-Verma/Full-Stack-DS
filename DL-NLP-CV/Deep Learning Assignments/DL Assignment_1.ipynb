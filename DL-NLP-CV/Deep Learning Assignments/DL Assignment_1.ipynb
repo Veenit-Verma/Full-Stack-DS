{
 "cells": [
  {
   "cell_type": "markdown",
   "id": "9388c106",
   "metadata": {},
   "source": [
    "# Solution: Assignment 1 "
   ]
  },
  {
   "cell_type": "markdown",
   "id": "23332082",
   "metadata": {},
   "source": [
    "#### 1.\tWhat is the function of a summation junction of a neuron? What is threshold activation function ?"
   ]
  },
  {
   "cell_type": "markdown",
   "id": "dd028c98",
   "metadata": {},
   "source": [
    "The summation junction of a neuron is a mathematical operation that takes the weighted sum of the inputs to a neuron and produces a single output value. The weights are assigned to the inputs by the network's learning algorithm, and they determine how much influence each input has on the output.\n",
    "The threshold activation function is a function that takes the output of the summation junction and determines whether the neuron should be activated or not. The most common threshold activation function is the binary step function, which simply outputs 1 if the output of the summation junction is greater than a certain threshold value, and 0 otherwise."
   ]
  },
  {
   "cell_type": "markdown",
   "id": "73931c63",
   "metadata": {},
   "source": [
    "#### 2.\tWhat is a step function? What is the difference of step function with threshold function ?"
   ]
  },
  {
   "cell_type": "markdown",
   "id": "edbb0376",
   "metadata": {},
   "source": [
    "A step function is a function that takes a real number as input and outputs a constant value if the input is greater than or equal to a certain threshold value, and another constant value if the input is less than the threshold value. The threshold value is also known as the \"breakpoint\" or \"decision boundary\" of the step function.\n",
    "A threshold function is a special type of step function where the output value is 0 if the input is less than the threshold value, and 1 if the input is greater than or equal to the threshold value.\n",
    "The main difference between a step function and a threshold function is the number of output values. A step function can have any number of output values, while a threshold function only has two output values: 0 and 1."
   ]
  },
  {
   "cell_type": "markdown",
   "id": "efb9e19b",
   "metadata": {},
   "source": [
    "#### 3.\tExplain the McCulloch–Pitts model of neuron ?"
   ]
  },
  {
   "cell_type": "markdown",
   "id": "565b19fd",
   "metadata": {},
   "source": [
    "The McCulloch–Pitts model says that a neuron can be thought of as a logical circuit that takes a set of inputs and produces a single output.\n",
    "\n",
    "The McCulloch–Pitts model has four main components:\n",
    "\n",
    "Inputs: The inputs to a neuron are the signals that it receives from other neurons. The inputs can be either excitatory or inhibitory, meaning that they either increase or decrease the neuron's output.\n",
    "Weights: The weights are numbers that are associated with each input. The weights determine how much influence each input has on the neuron's output.\n",
    "Threshold: The threshold is a number that determines whether the neuron will be activated or not. If the weighted sum of the inputs is greater than or equal to the threshold, then the neuron will be activated and will produce an output of 1. Otherwise, the neuron will not be activated and will produce an output of 0.\n",
    "Output: The output of a neuron is a single binary value, either 0 or 1. The output represents the state of the neuron, and it can be used to influence the output of other neurons."
   ]
  },
  {
   "cell_type": "markdown",
   "id": "c3814e96",
   "metadata": {},
   "source": [
    "#### 4.\tExplain the ADALINE network model ?"
   ]
  },
  {
   "cell_type": "markdown",
   "id": "ce832655",
   "metadata": {},
   "source": [
    "ADALINE (Adaptive Linear Neuron) is a single-layer neural network with multiple nodes where each node accepts multiple inputs and generates one output. It is a supervised learning algorithm that uses a gradient descent method to adjust the weights of the network in order to minimize the error between the desired output and the actual output.\n",
    "The ADALINE network model is made up of the following components:\n",
    "\n",
    "a. The inputs to the ADALINE network are the features of the data that we are trying to learn. For example, in case of classification of images of cats and dogs, the inputs could be the pixel values of the images.\n",
    "b.The weights of the ADALINE network are the parameters that we are trying to learn. The weights determine how much influence each input has on the output of the network.\n",
    "c. The threshold is a parameter that determines whether the neuron will be activated or not. If the weighted sum of the inputs is greater than or equal to the threshold, then the neuron will be activated and will produce an output of 1. Otherwise, the neuron will not be activated and will produce an output of 0.\n",
    "d. The output of the ADALINE network is a single binary value, either 0 or 1. The output represents the prediction of the network for the input data\n",
    "The ADALINE network model is trained using a gradient descent method. The gradient descent method is an iterative method that starts with a random set of weights and then updates the weights in order to minimize the error between the desired output and the actual output."
   ]
  },
  {
   "cell_type": "markdown",
   "id": "4450753d",
   "metadata": {},
   "source": [
    "#### 5.\tWhat is the constraint of a simple perceptron? Why it may fail with a real-world data set ?"
   ]
  },
  {
   "cell_type": "markdown",
   "id": "c2befe18",
   "metadata": {},
   "source": [
    "Constraints of a simple perceptron:\n",
    "\n",
    "It can only classify linearly separable data. This means that the data must be able to be separated by a straight line. If the data is not linearly separable, then the perceptron will not be able to learn to classify it correctly.\n",
    "It can only produce binary outputs. This means that the perceptron can only classify data into two classes. If the data has more than two classes, then the perceptron will not be able to classify it correctly.\n",
    "It can be sensitive to noise. Noise is any variation in the data that is not due to the underlying pattern. Noise can make it difficult for the perceptron to learn to classify the data correctly.\n",
    "\n",
    "Reasons why a simple perceptron may fail with a real-world data set:\n",
    "\n",
    "The data may not be linearly separable.\n",
    "The data may have noise.\n",
    "The data may not be representative of the real world."
   ]
  },
  {
   "cell_type": "markdown",
   "id": "64e9b622",
   "metadata": {},
   "source": [
    "#### 6.\tWhat is linearly inseparable problem? What is the role of the hidden layer ?"
   ]
  },
  {
   "cell_type": "markdown",
   "id": "591ac382",
   "metadata": {},
   "source": [
    "A linearly inseparable problem is a classification problem where the data cannot be separated by a linear decision boundary. This means that there is no straight line that can be drawn to perfectly classify the data into two or more classes.\n",
    "The hidden layer is a layer of neurons in a neural network that is placed between the input layer and the output layer. The hidden layer allows the neural network to learn more complex patterns in the data.In the case of a linearly inseparable problem, the hidden layer can learn to represent the data in a way that is more amenable to classification. For example, the hidden layer could learn to represent the data as a set of points in a higher dimensional space, where the points can be separated by a linear decision boundary.\n",
    "The role of the hidden layer is to learn a non-linear transformation of the input data that allows the neural network to learn more complex patterns. This transformation can be used to solve problems that are not linearly separable."
   ]
  },
  {
   "cell_type": "markdown",
   "id": "88662dbf",
   "metadata": {},
   "source": [
    "#### 7.\tExplain XOR problem in case of a simple perceptron? "
   ]
  },
  {
   "cell_type": "markdown",
   "id": "d2eff531",
   "metadata": {},
   "source": [
    "XOR problem is a problem where the output is 1 iff exactly one of the two inputs is 1. But, the XOR problem is not linearly separable and hence cannot be solved by a simple perceptron.\n",
    "A simple perceptron is a type of artificial neural network that can only classify linearly separable data i.e data that is separated by a straight line. If not linearly separable, the perceptron will not be able to learn to classify it correctly.\n",
    "In the case of the XOR problem, there is no straight line that can be drawn to perfectly classify the data. This is because the XOR problem has two possible outputs, 0 and 1, but there are four possible input combinations.\n",
    "e.g. if the two inputs are both 0, then the output should be 0. However, if the two inputs are both 1, then the output should also be 0. This means that there is no straight line that can be drawn to perfectly classify the XOR problem."
   ]
  },
  {
   "cell_type": "markdown",
   "id": "dfd5516b",
   "metadata": {},
   "source": [
    "#### 8.\tDesign a multi-layer perceptron to implement A XOR B ?"
   ]
  },
  {
   "cell_type": "raw",
   "id": "1dcd0376",
   "metadata": {},
   "source": [
    "The multilayer perceptron will have two input neurons, one for each input to the XOR gate. The output layer will have one neuron, which will represent the output of the XOR gate. The hidden layer will have one neuron, which will learn to represent the non-linear relationship between the two inputs and the output.The weights of the network will be initialized randomly. The network will be trained using a supervised learning algorithm, such as the backpropagation algorithm. The training data will consist of the four possible input combinations for the XOR gate, along with the desired output for each combination.The network will be trained until it converges, which means that the error between the predicted output and the desired output is minimized. Once the network has converged, it will be able to implement the XOR gate.\n",
    "diagram of the multilayer perceptron\n",
    "Input Layer\n",
    "A | B\n",
    "\n",
    "Hidden Layer\n",
    "N\n",
    "\n",
    "Output Layer\n",
    "Y"
   ]
  },
  {
   "cell_type": "markdown",
   "id": "72541716",
   "metadata": {},
   "source": [
    "#### 9.\tExplain the single-layer feed forward architecture of ANN ?"
   ]
  },
  {
   "cell_type": "markdown",
   "id": "6ae53f7a",
   "metadata": {},
   "source": [
    "Single-layer feedforward architecture is a type of artificial neural network (ANN) that has a single layer of neurons. The neurons in the layer are connected to each other in a feedforward manner, meaning that the output of each neuron is used as the input to the next neuron. The components of single-layer feedforward architecture are input, weights, activation function and output. The activation function is applied to the weighted sum of the inputs. The activation function determines whether the neuron will be activated or not. Single-layer feedforward architecture is trained using a supervised learning algorithm. The supervised learning algorithm  starts with a random set of weights and then updates the weights in order to minimize the error between the predicted output and the desired output."
   ]
  },
  {
   "cell_type": "markdown",
   "id": "39337dbb",
   "metadata": {},
   "source": [
    "#### 10. Explain the competitive network architecture of ANN ?"
   ]
  },
  {
   "cell_type": "markdown",
   "id": "26d19670",
   "metadata": {},
   "source": [
    "A competitive network is a type of artificial neural network (ANN) that is used for clustering. The network consists of a single layer of neurons, and each neuron competes with the others to represent the input data.The competitive network is trained using a winner-takes-all algorithm. The winner-takes-all algorithm is an iterative algorithm that starts with a random set of weights and then updates the weights in order to maximize the activation of the neuron that is most similar to the input data.The neurons in the competitive network are usually fully connected, meaning that each neuron is connected to every other neuron.The activation function for the competitive network is usually a sigmoid function, which is a function that has a value between 0 and 1.The winner-takes-all algorithm is usually implemented by setting the weights of the winning neuron to 1 and the weights of the other neurons to 0."
   ]
  },
  {
   "cell_type": "markdown",
   "id": "14fcf88b",
   "metadata": {},
   "source": [
    "#### 11. Consider a multi-layer feed forward neural network. Enumerate and explain steps in the backpropagation algorithm used to train the network ?"
   ]
  },
  {
   "cell_type": "markdown",
   "id": "6586c360",
   "metadata": {},
   "source": [
    "The backpropagation algorithm consists of the following steps:\n",
    "\n",
    "Forward pass: The forward pass is the process of computing the output of the network for a given input. The output of the network is computed layer by layer, starting with the input layer and ending with the output layer.\n",
    "Error calculation: The error calculation step is the process of computing the error between the predicted output of the network and the desired output. The error is computed layer by layer, starting with the output layer and working backwards to the input layer.\n",
    "Weight update: The weight update step is the process of adjusting the weights of the network in order to minimize the error. The weights are adjusted using a learning rate. \n",
    "Weights are updated using the following formula \n",
    "weight = weight - learning rate * error * activation derivative. \n",
    "Activation derivative is the derivative of the activation function for the neuron\n",
    "\n",
    "Repeat until the error is minimized.\n",
    "\n",
    "Forward pass computes the output of the network for a given input. The output of the network is computed layer by layer, starting with the input layer and ending with the output layer. The output of each neuron in a layer is computed as a weighted sum of the outputs of the neurons in the previous layer, plus a bias term. The weighted sum is then passed through an activation function that determines the output of the neuron. The activation function is a non-linear function that is used to introduce non-linearity into the network. This non-linearity is important to learn more complex patterns in the data in the network. The error is calculated between the predicted output of the network and the desired output. The error is computed layer by layer, starting with the output layer and working backwards to the input layer. The error for a neuron in a layer is calculated and then propagated back to the previous layer, where it is used to update the weights of the neurons in that layer.The weight update adjusts the weights of the network in order to minimize the error using a learning rate, which is a hyperparameter that controls the amount of change that is applied to the weights."
   ]
  },
  {
   "cell_type": "markdown",
   "id": "f7ed34cd",
   "metadata": {},
   "source": [
    "#### 12. What are the advantages and disadvantages of neural networks ?"
   ]
  },
  {
   "cell_type": "markdown",
   "id": "0c120605",
   "metadata": {},
   "source": [
    "Advantages of neural networks:\n",
    "\n",
    "They can learn complex patterns in data. Neural networks are able to learn complex patterns in data that would be difficult or impossible to learn using traditional machine learning algorithms. This makes them well-suited for tasks such as image recognition, natural language processing, and speech recognition.\n",
    "They are able to generalize well. Neural networks are able to generalize well to new data that they have not seen before. This is because they learn to represent the underlying patterns in the data, not just the specific examples that they are trained on.\n",
    "They are able to learn from noisy data. Neural networks are able to learn from noisy data. This is because they are able to learn to ignore the noise and focus on the underlying patterns in the data.\n",
    "\n",
    "Disadvantages of neural networks:\n",
    "\n",
    "They can be computationally expensive to train. Neural networks can be computationally expensive to train, especially for large datasets. This is because the training algorithm needs to iterate over the data many times in order to find the optimal weights for the network.\n",
    "They can be difficult to interpret. Neural networks are often difficult to interpret. This is because they learn complex patterns in the data that are not always easy to understand. This can make it difficult to use neural networks to explain why they made a particular prediction.\n",
    "They can be vulnerable to adversarial attacks. Neural networks can be vulnerable to adversarial attacks. This means that they can be tricked into making incorrect predictions by carefully crafted inputs. This is a serious security concern, as it could be used to attack systems that rely on neural networks."
   ]
  },
  {
   "cell_type": "markdown",
   "id": "63795b39",
   "metadata": {},
   "source": [
    "#### 13. Write short notes on any two of the following:\n",
    "1. Biological neuron\n",
    "2. ReLU function\n",
    "3. Single-layer feed forward ANN\n",
    "4. Gradient descent\n",
    "5. Recurrent networks"
   ]
  },
  {
   "cell_type": "markdown",
   "id": "40eb1c56",
   "metadata": {},
   "source": [
    "Biological neuron\n",
    "\n",
    "A biological neuron is a basic unit of the nervous system. It is made up of a cell body, dendrites, and an axon. The dendrites receive signals from other neurons, and the axon sends signals to other neurons. The signals are transmitted across the synapses, which are the junctions between neurons.\n",
    "\n",
    "The biological neuron is the inspiration for the artificial neuron, which is the basic unit of an artificial neural network. Artificial neurons are made up of weighted inputs, an activation function, and an output. The weighted inputs are multiplied by the corresponding weights, and the sum of the products is passed through the activation function to produce the output.\n",
    "\n",
    "ReLU function\n",
    "\n",
    "The rectified linear unit (ReLU) function is a non-linear function that is commonly used in artificial neural networks. The ReLU function is defined as follows:\n",
    "\n",
    "f(x) = max(0, x)\n",
    "The ReLU function has several advantages over other activation functions, such as the sigmoid function and thetanh function. The ReLU function is computationally efficient, and it does not suffer from the vanishing gradient problem. The vanishing gradient problem is a problem that occurs when the derivatives of the activation function approach zero, which makes it difficult for the neural network to learn.\n",
    "\n",
    "The ReLU function is a simple but effective activation function that is widely used in artificial neural networks. It is especially useful for deep neural networks, which are neural networks with many layers.\n",
    "\n",
    "\n"
   ]
  }
 ],
 "metadata": {
  "kernelspec": {
   "display_name": "Python 3 (ipykernel)",
   "language": "python",
   "name": "python3"
  },
  "language_info": {
   "codemirror_mode": {
    "name": "ipython",
    "version": 3
   },
   "file_extension": ".py",
   "mimetype": "text/x-python",
   "name": "python",
   "nbconvert_exporter": "python",
   "pygments_lexer": "ipython3",
   "version": "3.11.3"
  }
 },
 "nbformat": 4,
 "nbformat_minor": 5
}
