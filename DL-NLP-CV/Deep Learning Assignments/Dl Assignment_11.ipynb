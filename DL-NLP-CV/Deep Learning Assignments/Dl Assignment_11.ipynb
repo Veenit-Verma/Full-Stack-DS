{
 "cells": [
  {
   "cell_type": "markdown",
   "id": "dc6bd03c",
   "metadata": {},
   "source": [
    "# Solution Assignment : 11"
   ]
  },
  {
   "cell_type": "markdown",
   "id": "4a248256",
   "metadata": {},
   "source": [
    "#### 1.\tWrite the Python code to implement a single neuron."
   ]
  },
  {
   "cell_type": "markdown",
   "id": "5b6f70f6",
   "metadata": {},
   "source": []
  },
  {
   "cell_type": "markdown",
   "id": "f5c5f184",
   "metadata": {},
   "source": [
    "#### 2.\tWrite the Python code to implement ReLU."
   ]
  },
  {
   "cell_type": "code",
   "execution_count": null,
   "id": "4315a679",
   "metadata": {},
   "outputs": [],
   "source": []
  },
  {
   "cell_type": "markdown",
   "id": "edf7aaa4",
   "metadata": {},
   "source": [
    "#### 3.\tWrite the Python code for a dense layer in terms of matrix multiplication."
   ]
  },
  {
   "cell_type": "code",
   "execution_count": null,
   "id": "2a487ef2",
   "metadata": {},
   "outputs": [],
   "source": []
  },
  {
   "cell_type": "markdown",
   "id": "746cb7cc",
   "metadata": {},
   "source": [
    "#### 4.\tWrite the Python code for a dense layer in plain Python (that is, with list comprehensions and functionality built into Python)."
   ]
  },
  {
   "cell_type": "code",
   "execution_count": null,
   "id": "802c6adb",
   "metadata": {},
   "outputs": [],
   "source": []
  },
  {
   "cell_type": "markdown",
   "id": "332cbd41",
   "metadata": {},
   "source": [
    "#### 5.\tWhat is the “hidden size” of a layer?"
   ]
  },
  {
   "cell_type": "markdown",
   "id": "60aecf85",
   "metadata": {},
   "source": [
    "The \"hidden size\" of a layer is the number of neurons in that layer. The hidden size of a layer is a hyperparameter that can be tuned to improve the performance of a deep learning model.\n",
    "\n",
    "In a neural network, each layer is responsible for learning a specific representation of the input data. The hidden size of a layer determines the number of features that the layer can learn. A larger hidden size means that the layer can learn more features, but it also means that the layer will be more complex and will require more data to train."
   ]
  },
  {
   "cell_type": "markdown",
   "id": "4e479268",
   "metadata": {},
   "source": [
    "#### 6.\tWhat does the t method do in PyTorch?"
   ]
  },
  {
   "cell_type": "markdown",
   "id": "788352fc",
   "metadata": {},
   "source": [
    "The t() method in PyTorch is used to transpose a tensor. Transposing a tensor means swapping the rows and columns of the tensor. For example, if you have a tensor with 3 rows and 4 columns, then t() will return a tensor with 4 rows and 3 columns.\n",
    "\n",
    "The t() method is often used to prepare tensors for certain operations. For example, the torch.mm() method, which is used to perform matrix multiplication, requires the tensors to be transposed before the multiplication can be performed.\n",
    "\n",
    "The t() method can also be used to change the shape of a tensor. For example, if you have a tensor with 3 rows and 4 columns, and you want to change the shape of the tensor to be 12, then you can use the t() method to transpose the tensor and then reshape it to be 12."
   ]
  },
  {
   "cell_type": "markdown",
   "id": "f71bd58a",
   "metadata": {},
   "source": [
    "#### 7.\tWhy is matrix multiplication written in plain Python very slow?"
   ]
  },
  {
   "cell_type": "markdown",
   "id": "c1bc469b",
   "metadata": {},
   "source": [
    "reasons why matrix multiplication written in plain Python is very slow.\n",
    "\n",
    "Python is an interpreted language: This means that each line of Python code is interpreted by the Python interpreter before it is executed. This can add a significant amount of overhead, especially for computationally intensive tasks like matrix multiplication.\n",
    "Python does not have native support for matrix multiplication: This means that Python code must use a library like NumPy to perform matrix multiplication. NumPy is a powerful library, but it can also be slow for large matrices.\n",
    "Python is not optimized for speed: Python is designed to be easy to use, not fast. This means that Python code often does not take advantage of the hardware's capabilities."
   ]
  },
  {
   "cell_type": "markdown",
   "id": "0d16db75",
   "metadata": {},
   "source": [
    "#### 8.\tIn matmul, why is ac==br?"
   ]
  },
  {
   "cell_type": "markdown",
   "id": "18fc3f76",
   "metadata": {},
   "source": [
    "In matmul, ac==br because the matrix multiplication operation is commutative. This means that the order in which the matrices are multiplied does not matter. In other words, A * B will produce the same result as B * A."
   ]
  },
  {
   "cell_type": "markdown",
   "id": "979e3af2",
   "metadata": {},
   "source": [
    "#### 9.\tIn Jupyter Notebook, how do you measure the time taken for a single cell to execute?"
   ]
  },
  {
   "cell_type": "markdown",
   "id": "935bcea2",
   "metadata": {},
   "source": [
    "One way is to use the %%timeit magic command. The %%timeit magic command allows you to time the execution of a single cell or a block of cells"
   ]
  },
  {
   "cell_type": "markdown",
   "id": "bd77bd31",
   "metadata": {},
   "source": [
    "#### 10.\tWhat is elementwise arithmetic?"
   ]
  },
  {
   "cell_type": "markdown",
   "id": "8cfa96f5",
   "metadata": {},
   "source": [
    "\n",
    "Elementwise arithmetic is a type of arithmetic operation that is performed on individual elements of a vector or matrix. In deep learning, elementwise arithmetic is often used to perform activation functions, such as ReLU and sigmoid.\n",
    "\n",
    "For example, the ReLU function takes a vector of numbers and outputs a vector of the same size, where each element is either 0 or the input element if the input element is positive.The ReLU function is a non-linear function, which means that it can learn complex relationships between the inputs and outputs of a deep learning model."
   ]
  },
  {
   "cell_type": "markdown",
   "id": "c9b2fdc0",
   "metadata": {},
   "source": [
    "#### 11.\tWrite the PyTorch code to test whether every element of a is greater than the corresponding element of b."
   ]
  },
  {
   "cell_type": "code",
   "execution_count": null,
   "id": "52c535d9",
   "metadata": {},
   "outputs": [],
   "source": []
  },
  {
   "cell_type": "markdown",
   "id": "d03ba3dd",
   "metadata": {},
   "source": [
    "#### 12.\tWhat is a rank-0 tensor? How do you convert it to a plain Python data type?"
   ]
  },
  {
   "cell_type": "markdown",
   "id": "fe20ef2e",
   "metadata": {},
   "source": [
    "In PyTorch, a rank-0 tensor is a tensor that has no dimensions. This means that a rank-0 tensor is a scalar.\n",
    "\n",
    "To convert a rank-0 tensor to a plain Python data type, you can use the item() method. The item() method returns the value of a scalar tensor."
   ]
  },
  {
   "cell_type": "markdown",
   "id": "69e79117",
   "metadata": {},
   "source": [
    "#### 13.\tHow does elementwise arithmetic help us speed up matmul?"
   ]
  },
  {
   "cell_type": "markdown",
   "id": "0ca6ebce",
   "metadata": {},
   "source": [
    "Elementwise arithmetic can help speed up matrix multiplication by reducing the number of floating-point operations that need to be performed. For example, if we have two matrices, A and B, and we want to compute the product of the matrices, we can use elementwise arithmetic to reduce the number of floating-point operations from O(n^3) to O(n^2)"
   ]
  },
  {
   "cell_type": "markdown",
   "id": "fe43354d",
   "metadata": {},
   "source": [
    "#### 14.\tWhat are the broadcasting rules?"
   ]
  },
  {
   "cell_type": "markdown",
   "id": "10e0f25c",
   "metadata": {},
   "source": [
    "Broadcasting is a way of performing arithmetic operations between arrays of different shapes. The rules for broadcasting are as follows:\n",
    "\n",
    "If the arrays have the same shape, then the operation is performed element-wise.\n",
    "If the arrays have different shapes, then the smaller array is \"broadcasted\" to match the shape of the larger array. This is done by adding \"phantom\" dimensions of size 1 to the smaller array.\n",
    "The arithmetic operation is then performed element-wise on the broadcasted arrays."
   ]
  },
  {
   "cell_type": "markdown",
   "id": "8b5204b7",
   "metadata": {},
   "source": [
    "#### 15.\tWhat is expand_as? Show an example of how it can be used to match the results of broadcasting."
   ]
  },
  {
   "cell_type": "code",
   "execution_count": null,
   "id": "b9dd4d50",
   "metadata": {},
   "outputs": [],
   "source": []
  }
 ],
 "metadata": {
  "kernelspec": {
   "display_name": "Python 3 (ipykernel)",
   "language": "python",
   "name": "python3"
  },
  "language_info": {
   "codemirror_mode": {
    "name": "ipython",
    "version": 3
   },
   "file_extension": ".py",
   "mimetype": "text/x-python",
   "name": "python",
   "nbconvert_exporter": "python",
   "pygments_lexer": "ipython3",
   "version": "3.11.3"
  }
 },
 "nbformat": 4,
 "nbformat_minor": 5
}
