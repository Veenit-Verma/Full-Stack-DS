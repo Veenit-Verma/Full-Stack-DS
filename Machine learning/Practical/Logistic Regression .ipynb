{
 "cells": [
  {
   "cell_type": "code",
   "execution_count": 3,
   "id": "9772a52c",
   "metadata": {},
   "outputs": [
    {
     "name": "stdout",
     "output_type": "stream",
     "text": [
      "Accuracy: 0.716640502354788\n",
      "              precision    recall  f1-score   support\n",
      "\n",
      "         0.0       0.74      0.89      0.81       849\n",
      "         1.0       0.62      0.38      0.47       425\n",
      "\n",
      "    accuracy                           0.72      1274\n",
      "   macro avg       0.68      0.63      0.64      1274\n",
      "weighted avg       0.70      0.72      0.69      1274\n",
      "\n"
     ]
    },
    {
     "name": "stderr",
     "output_type": "stream",
     "text": [
      "C:\\Users\\panda\\AppData\\Local\\Programs\\Python\\Python311\\Lib\\site-packages\\sklearn\\linear_model\\_logistic.py:458: ConvergenceWarning: lbfgs failed to converge (status=1):\n",
      "STOP: TOTAL NO. of ITERATIONS REACHED LIMIT.\n",
      "\n",
      "Increase the number of iterations (max_iter) or scale the data as shown in:\n",
      "    https://scikit-learn.org/stable/modules/preprocessing.html\n",
      "Please also refer to the documentation for alternative solver options:\n",
      "    https://scikit-learn.org/stable/modules/linear_model.html#logistic-regression\n",
      "  n_iter_i = _check_optimize_result(\n"
     ]
    }
   ],
   "source": [
    "import numpy as np\n",
    "import pandas as pd\n",
    "import statsmodels.api as sm\n",
    "from patsy import dmatrices\n",
    "from sklearn.model_selection import train_test_split\n",
    "from sklearn.linear_model import LogisticRegression\n",
    "from sklearn.metrics import accuracy_score, classification_report\n",
    "\n",
    "# Load the affairs dataset from Statsmodels\n",
    "affairs_data = sm.datasets.fair.load_pandas().data\n",
    "\n",
    "# Add a binary variable 'affair' to indicate if a woman had at least one affair\n",
    "affairs_data['affair'] = (affairs_data['affairs'] > 0).astype(int)\n",
    "\n",
    "# Select the features and target variable\n",
    "y, X = dmatrices('affair ~ rate_marriage + age + yrs_married + children + religious + educ + occupation + occupation_husb',\n",
    "                 affairs_data, return_type='dataframe')\n",
    "\n",
    "# Split the data into train and test sets\n",
    "X_train, X_test, y_train, y_test = train_test_split(X, y, test_size=0.2, random_state=42)\n",
    "\n",
    "# Create a logistic regression model\n",
    "model = LogisticRegression()\n",
    "\n",
    "# Train the model\n",
    "model.fit(X_train, y_train.values.ravel())\n",
    "\n",
    "# Make predictions\n",
    "y_pred = model.predict(X_test)\n",
    "\n",
    "# Evaluate the model\n",
    "accuracy = accuracy_score(y_test, y_pred)\n",
    "print(\"Accuracy:\", accuracy)\n",
    "print(classification_report(y_test, y_pred))\n"
   ]
  },
  {
   "cell_type": "code",
   "execution_count": 4,
   "id": "681041ad",
   "metadata": {},
   "outputs": [],
   "source": [
    "import pickle\n",
    "\n",
    "# Save the trained model to a file\n",
    "filename = 'affairs_model.pkl'\n",
    "pickle.dump(model, open(filename, 'wb'))\n"
   ]
  },
  {
   "cell_type": "code",
   "execution_count": 6,
   "id": "3031d39d",
   "metadata": {},
   "outputs": [],
   "source": [
    "import pickle\n",
    "from fastapi import FastAPI\n",
    "from pydantic import BaseModel\n",
    "\n",
    "# Define the input data schema\n",
    "class InputData(BaseModel):\n",
    "    rate_marriage: float\n",
    "    age: float\n",
    "    yrs_married: float\n",
    "    children: float\n",
    "    religious: float\n",
    "    educ: float\n",
    "    occupation: float\n",
    "    occupation_husb: float\n",
    "\n",
    "# Load the trained model\n",
    "model = pickle.load(open('affairs_model.pkl', 'rb'))\n",
    "\n",
    "# Create the FastAPI application\n",
    "app = FastAPI()\n",
    "\n",
    "# Define the prediction endpoint\n",
    "@app.post(\"/predict\")\n",
    "def predict_affair(data: InputData):\n",
    "    # Prepare input data\n",
    "    input_data = [[\n",
    "        data.rate_marriage,\n",
    "        data.age,\n",
    "        data.yrs_married,\n",
    "        data.children,\n",
    "        data.religious,\n",
    "        data.educ,\n",
    "        data.occupation,\n",
    "        data.occupation_husb\n",
    "    ]]\n",
    "\n",
    "    # Make prediction\n",
    "    prediction = model.predict(input_data)\n",
    "\n",
    "    # Format the response\n",
    "    response = {\"prediction\": int(prediction[0])}\n",
    "\n",
    "    return response\n"
   ]
  },
  {
   "cell_type": "code",
   "execution_count": null,
   "id": "88f63a9c",
   "metadata": {},
   "outputs": [],
   "source": []
  }
 ],
 "metadata": {
  "kernelspec": {
   "display_name": "Python 3 (ipykernel)",
   "language": "python",
   "name": "python3"
  },
  "language_info": {
   "codemirror_mode": {
    "name": "ipython",
    "version": 3
   },
   "file_extension": ".py",
   "mimetype": "text/x-python",
   "name": "python",
   "nbconvert_exporter": "python",
   "pygments_lexer": "ipython3",
   "version": "3.11.3"
  }
 },
 "nbformat": 4,
 "nbformat_minor": 5
}
